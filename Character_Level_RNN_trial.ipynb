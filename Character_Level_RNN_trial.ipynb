{
 "cells": [
  {
   "cell_type": "markdown",
   "metadata": {},
   "source": [
    "# Character-Level LSTM in PyTorch\n",
    "\n",
    "In this notebook, I'll construct a character-level LSTM with PyTorch. The network will train character by character on some text, then generate new text character by character. As an example, I will train on Anna Karenina. **This model will be able to generate new text based on the text from the book!**\n",
    "\n",
    "This network is based off of Andrej Karpathy's [post on RNNs](http://karpathy.github.io/2015/05/21/rnn-effectiveness/) and [implementation in Torch](https://github.com/karpathy/char-rnn). Below is the general architecture of the character-wise RNN.\n",
    "\n",
    "<img src=\"assets/charseq.jpeg\" width=\"500\">"
   ]
  },
  {
   "cell_type": "markdown",
   "metadata": {},
   "source": [
    "First let's load in our required resources for data loading and model creation."
   ]
  },
  {
   "cell_type": "code",
   "execution_count": 42,
   "metadata": {},
   "outputs": [],
   "source": [
    "import numpy as np\n",
    "import torch\n",
    "from torch import nn\n",
    "import torch.nn.functional as F\n",
    "\n",
    "#https://www.technologyreview.com/2018/02/21/145289/the-ganfather-the-man-whos-given-machines-the-gift-of-imagination/"
   ]
  },
  {
   "cell_type": "markdown",
   "metadata": {},
   "source": [
    "## Load in Data\n",
    "\n",
    "Then, we'll load the Anna Karenina text file and convert it into integers for our network to use. "
   ]
  },
  {
   "cell_type": "code",
   "execution_count": 43,
   "metadata": {},
   "outputs": [],
   "source": [
    "# open text file and read in data as `text`\n",
    "with open('data/anna.txt', 'r') as f:\n",
    "    text = f.read()"
   ]
  },
  {
   "cell_type": "markdown",
   "metadata": {},
   "source": [
    "Let's check out the first 100 characters, make sure everything is peachy. According to the [American Book Review](http://americanbookreview.org/100bestlines.asp), this is the 6th best first line of a book ever."
   ]
  },
  {
   "cell_type": "code",
   "execution_count": 33,
   "metadata": {},
   "outputs": [
    {
     "data": {
      "text/plain": [
       "'Chapter 1\\n\\n\\nHappy families are all alike; every unhappy family is unhappy in its own\\nway.\\n\\nEverythin'"
      ]
     },
     "execution_count": 33,
     "metadata": {},
     "output_type": "execute_result"
    }
   ],
   "source": [
    "text[:100]"
   ]
  },
  {
   "cell_type": "markdown",
   "metadata": {},
   "source": [
    "### Tokenization\n",
    "\n",
    "In the cells, below, I'm creating a couple **dictionaries** to convert the characters to and from integers. Encoding the characters as integers makes it easier to use as input in the network."
   ]
  },
  {
   "cell_type": "code",
   "execution_count": 4,
   "metadata": {},
   "outputs": [],
   "source": [
    "# encode the text and map each character to an integer and vice versa\n",
    "\n",
    "# we create two dictionaries:\n",
    "# 1. int2char, which maps integers to characters\n",
    "# 2. char2int, which maps characters to unique integers\n",
    "chars = tuple(set(text))\n",
    "\n",
    "#enumerate return a tuple, for index number and item at that index, that tuple is taken as input to create a dict,\n",
    "#and we iterate over the entire 'char' which here is a list/tuple containg all unique characters.\n",
    "\n",
    "int2char = dict(enumerate(chars))\n",
    "\n",
    "#now taking the formed dict, we make chacter : index pairs by storing it in a dict in rev order when we extract \n",
    "# (index,char) tuples from the dict int2char\n",
    "\n",
    "char2int = {ch: ii for ii, ch in int2char.items()}\n",
    "\n",
    "# encode the text\n",
    "encoded = np.array([char2int[ch] for ch in text])"
   ]
  },
  {
   "cell_type": "markdown",
   "metadata": {},
   "source": [
    "And we can see those same characters from above, encoded as integers."
   ]
  },
  {
   "cell_type": "code",
   "execution_count": 5,
   "metadata": {},
   "outputs": [
    {
     "name": "stdout",
     "output_type": "stream",
     "text": [
      "('W', '/', ':', '\"', 'M', 'T', 'n', 'f', 'I', '3', 'p', 'J', '(', 'B', 'O', 'A', '2', 'N', '4', 'w', 'Y', 'k', '$', '!', '1', 'D', 'Z', 'i', 'b', 'j', '\\n', 's', 'H', ';', 'G', 'P', '@', 'Q', 'a', 'm', \"'\", 'E', '&', '%', 'x', 'r', '7', 'l', 'u', 'F', 'X', ' ', '.', 'z', '8', '?', '*', 'V', 'o', 'q', 'K', '6', 'c', 'e', 'S', 'C', 'L', ',', '-', ')', 'v', 'd', 't', '9', '_', 'R', 'U', 'g', 'y', '5', '0', '`', 'h') \n",
      "\n",
      "Number of unique characters :  83\n"
     ]
    }
   ],
   "source": [
    "print(chars,'\\n')\n",
    "print('Number of unique characters : ',len(chars))"
   ]
  },
  {
   "cell_type": "code",
   "execution_count": 34,
   "metadata": {},
   "outputs": [
    {
     "data": {
      "text/plain": [
       "{0: 'W',\n",
       " 1: '/',\n",
       " 2: ':',\n",
       " 3: '\"',\n",
       " 4: 'M',\n",
       " 5: 'T',\n",
       " 6: 'n',\n",
       " 7: 'f',\n",
       " 8: 'I',\n",
       " 9: '3',\n",
       " 10: 'p',\n",
       " 11: 'J',\n",
       " 12: '(',\n",
       " 13: 'B',\n",
       " 14: 'O',\n",
       " 15: 'A',\n",
       " 16: '2',\n",
       " 17: 'N',\n",
       " 18: '4',\n",
       " 19: 'w',\n",
       " 20: 'Y',\n",
       " 21: 'k',\n",
       " 22: '$',\n",
       " 23: '!',\n",
       " 24: '1',\n",
       " 25: 'D',\n",
       " 26: 'Z',\n",
       " 27: 'i',\n",
       " 28: 'b',\n",
       " 29: 'j',\n",
       " 30: '\\n',\n",
       " 31: 's',\n",
       " 32: 'H',\n",
       " 33: ';',\n",
       " 34: 'G',\n",
       " 35: 'P',\n",
       " 36: '@',\n",
       " 37: 'Q',\n",
       " 38: 'a',\n",
       " 39: 'm',\n",
       " 40: \"'\",\n",
       " 41: 'E',\n",
       " 42: '&',\n",
       " 43: '%',\n",
       " 44: 'x',\n",
       " 45: 'r',\n",
       " 46: '7',\n",
       " 47: 'l',\n",
       " 48: 'u',\n",
       " 49: 'F',\n",
       " 50: 'X',\n",
       " 51: ' ',\n",
       " 52: '.',\n",
       " 53: 'z',\n",
       " 54: '8',\n",
       " 55: '?',\n",
       " 56: '*',\n",
       " 57: 'V',\n",
       " 58: 'o',\n",
       " 59: 'q',\n",
       " 60: 'K',\n",
       " 61: '6',\n",
       " 62: 'c',\n",
       " 63: 'e',\n",
       " 64: 'S',\n",
       " 65: 'C',\n",
       " 66: 'L',\n",
       " 67: ',',\n",
       " 68: '-',\n",
       " 69: ')',\n",
       " 70: 'v',\n",
       " 71: 'd',\n",
       " 72: 't',\n",
       " 73: '9',\n",
       " 74: '_',\n",
       " 75: 'R',\n",
       " 76: 'U',\n",
       " 77: 'g',\n",
       " 78: 'y',\n",
       " 79: '5',\n",
       " 80: '0',\n",
       " 81: '`',\n",
       " 82: 'h'}"
      ]
     },
     "execution_count": 34,
     "metadata": {},
     "output_type": "execute_result"
    }
   ],
   "source": [
    "int2char"
   ]
  },
  {
   "cell_type": "code",
   "execution_count": 7,
   "metadata": {},
   "outputs": [
    {
     "data": {
      "text/plain": [
       "{'W': 0,\n",
       " '/': 1,\n",
       " ':': 2,\n",
       " '\"': 3,\n",
       " 'M': 4,\n",
       " 'T': 5,\n",
       " 'n': 6,\n",
       " 'f': 7,\n",
       " 'I': 8,\n",
       " '3': 9,\n",
       " 'p': 10,\n",
       " 'J': 11,\n",
       " '(': 12,\n",
       " 'B': 13,\n",
       " 'O': 14,\n",
       " 'A': 15,\n",
       " '2': 16,\n",
       " 'N': 17,\n",
       " '4': 18,\n",
       " 'w': 19,\n",
       " 'Y': 20,\n",
       " 'k': 21,\n",
       " '$': 22,\n",
       " '!': 23,\n",
       " '1': 24,\n",
       " 'D': 25,\n",
       " 'Z': 26,\n",
       " 'i': 27,\n",
       " 'b': 28,\n",
       " 'j': 29,\n",
       " '\\n': 30,\n",
       " 's': 31,\n",
       " 'H': 32,\n",
       " ';': 33,\n",
       " 'G': 34,\n",
       " 'P': 35,\n",
       " '@': 36,\n",
       " 'Q': 37,\n",
       " 'a': 38,\n",
       " 'm': 39,\n",
       " \"'\": 40,\n",
       " 'E': 41,\n",
       " '&': 42,\n",
       " '%': 43,\n",
       " 'x': 44,\n",
       " 'r': 45,\n",
       " '7': 46,\n",
       " 'l': 47,\n",
       " 'u': 48,\n",
       " 'F': 49,\n",
       " 'X': 50,\n",
       " ' ': 51,\n",
       " '.': 52,\n",
       " 'z': 53,\n",
       " '8': 54,\n",
       " '?': 55,\n",
       " '*': 56,\n",
       " 'V': 57,\n",
       " 'o': 58,\n",
       " 'q': 59,\n",
       " 'K': 60,\n",
       " '6': 61,\n",
       " 'c': 62,\n",
       " 'e': 63,\n",
       " 'S': 64,\n",
       " 'C': 65,\n",
       " 'L': 66,\n",
       " ',': 67,\n",
       " '-': 68,\n",
       " ')': 69,\n",
       " 'v': 70,\n",
       " 'd': 71,\n",
       " 't': 72,\n",
       " '9': 73,\n",
       " '_': 74,\n",
       " 'R': 75,\n",
       " 'U': 76,\n",
       " 'g': 77,\n",
       " 'y': 78,\n",
       " '5': 79,\n",
       " '0': 80,\n",
       " '`': 81,\n",
       " 'h': 82}"
      ]
     },
     "execution_count": 7,
     "metadata": {},
     "output_type": "execute_result"
    }
   ],
   "source": [
    "char2int"
   ]
  },
  {
   "cell_type": "code",
   "execution_count": 8,
   "metadata": {},
   "outputs": [
    {
     "data": {
      "text/plain": [
       "'Chapter 1\\n\\n\\nHappy families are all alike; every unhappy family is unhappy in its own\\nway.\\n\\nEverythin'"
      ]
     },
     "execution_count": 8,
     "metadata": {},
     "output_type": "execute_result"
    }
   ],
   "source": [
    "#first 100 characters in the book\n",
    "text[:100]"
   ]
  },
  {
   "cell_type": "code",
   "execution_count": 9,
   "metadata": {},
   "outputs": [
    {
     "data": {
      "text/plain": [
       "array([65, 82, 38, 10, 72, 63, 45, 51, 24, 30, 30, 30, 32, 38, 10, 10, 78,\n",
       "       51,  7, 38, 39, 27, 47, 27, 63, 31, 51, 38, 45, 63, 51, 38, 47, 47,\n",
       "       51, 38, 47, 27, 21, 63, 33, 51, 63, 70, 63, 45, 78, 51, 48,  6, 82,\n",
       "       38, 10, 10, 78, 51,  7, 38, 39, 27, 47, 78, 51, 27, 31, 51, 48,  6,\n",
       "       82, 38, 10, 10, 78, 51, 27,  6, 51, 27, 72, 31, 51, 58, 19,  6, 30,\n",
       "       19, 38, 78, 52, 30, 30, 41, 70, 63, 45, 78, 72, 82, 27,  6])"
      ]
     },
     "execution_count": 9,
     "metadata": {},
     "output_type": "execute_result"
    }
   ],
   "source": [
    "# encoded for of forst 100 characters in the book\n",
    "encoded[:100]"
   ]
  },
  {
   "cell_type": "markdown",
   "metadata": {},
   "source": [
    "## Pre-processing the data\n",
    "\n",
    "As you can see in our char-RNN image above, our LSTM expects an input that is **one-hot encoded** meaning that each character is converted into an integer (via our created dictionary) and *then* converted into a column vector where only it's corresponding integer index will have the value of 1 and the rest of the vector will be filled with 0's. Since we're one-hot encoding the data, let's make a function to do that!\n"
   ]
  },
  {
   "cell_type": "code",
   "execution_count": 10,
   "metadata": {},
   "outputs": [],
   "source": [
    "def one_hot_encode(arr, n_labels):\n",
    "    \n",
    "    # Initialize the the encoded array\n",
    "    one_hot = np.zeros((arr.size, n_labels), dtype=np.float32)\n",
    "    \n",
    "    # Fill the appropriate elements with ones\n",
    "    one_hot[np.arange(one_hot.shape[0]), arr.flatten()] = 1.\n",
    "    \n",
    "    # Finally reshape it to get back to the original array\n",
    "    one_hot = one_hot.reshape((*arr.shape, n_labels))\n",
    "    \n",
    "    return one_hot"
   ]
  },
  {
   "cell_type": "code",
   "execution_count": 11,
   "metadata": {},
   "outputs": [
    {
     "name": "stdout",
     "output_type": "stream",
     "text": [
      "[[[0. 0. 0. 1. 0. 0. 0. 0.]\n",
      "  [0. 0. 0. 0. 0. 1. 0. 0.]\n",
      "  [0. 1. 0. 0. 0. 0. 0. 0.]]]\n",
      "(1, 3, 8)\n"
     ]
    }
   ],
   "source": [
    "# check that the function works as expected\n",
    "test_seq = np.array([[3, 5, 1]])\n",
    "one_hot = one_hot_encode(test_seq, 8)\n",
    "\n",
    "print(one_hot)\n",
    "print(one_hot.shape)\n",
    "\n",
    "### not for our vocab containing 83 unique charcters, so our one hot encode size will be 83 , instead of 8 above."
   ]
  },
  {
   "cell_type": "markdown",
   "metadata": {},
   "source": [
    "## Making training mini-batches\n",
    "\n",
    "\n",
    "To train on this data, we also want to create mini-batches for training. Remember that we want our batches to be multiple sequences of some desired number of sequence steps. Considering a simple example, our batches would look like this:\n",
    "\n",
    "<img src=\"assets/sequence_batching@1x.png\" width=500px>\n",
    "\n",
    "\n",
    "<br>\n",
    "\n",
    "In this example, we'll take the encoded characters (passed in as the `arr` parameter) and split them into multiple sequences, given by `batch_size`. Each of our sequences will be `seq_length` long.\n",
    "\n",
    "### Creating Batches\n",
    "\n",
    "**1. The first thing we need to do is discard some of the text so we only have completely full mini-batches. **\n",
    "\n",
    "Each batch contains $N \\times M$ characters, where $N$ is the batch size (the number of sequences in a batch) and $M$ is the seq_length or number of time steps in a sequence. Then, to get the total number of batches, $K$, that we can make from the array `arr`, you divide the length of `arr` by the number of characters per batch. Once you know the number of batches, you can get the total number of characters to keep from `arr`, $N * M * K$.\n",
    "\n",
    "**2. After that, we need to split `arr` into $N$ batches. ** \n",
    "\n",
    "You can do this using `arr.reshape(size)` where `size` is a tuple containing the dimensions sizes of the reshaped array. We know we want $N$ sequences in a batch, so let's make that the size of the first dimension. For the second dimension, you can use `-1` as a placeholder in the size, it'll fill up the array with the appropriate data for you. After this, you should have an array that is $N \\times (M * K)$.\n",
    "\n",
    "**3. Now that we have this array, we can iterate through it to get our mini-batches. **\n",
    "\n",
    "The idea is each batch is a $N \\times M$ window on the $N \\times (M * K)$ array. For each subsequent batch, the window moves over by `seq_length`. We also want to create both the input and target arrays. Remember that the targets are just the inputs shifted over by one character. The way I like to do this window is use `range` to take steps of size `n_steps` from $0$ to `arr.shape[1]`, the total number of tokens in each sequence. That way, the integers you get from `range` always point to the start of a batch, and each window is `seq_length` wide.\n",
    "\n",
    "> **TODO:** Write the code for creating batches in the function below. The exercises in this notebook _will not be easy_. I've provided a notebook with solutions alongside this notebook. If you get stuck, checkout the solutions. The most important thing is that you don't copy and paste the code into here, **type out the solution code yourself.**"
   ]
  },
  {
   "cell_type": "code",
   "execution_count": 12,
   "metadata": {},
   "outputs": [],
   "source": [
    "def get_batches(arr, batch_size, seq_length):\n",
    "    '''Create a generator that returns batches of size\n",
    "       batch_size x seq_length from arr.\n",
    "       \n",
    "       Arguments\n",
    "       ---------\n",
    "       arr: Array you want to make batches from\n",
    "       batch_size: Batch size, the number of sequences per batch\n",
    "       seq_length: Number of encoded chars in a sequence\n",
    "    '''\n",
    "    ## number of characters in one minibatch= batch_size* seq_len\n",
    "    \n",
    "    #batch size can be thought of as number of rown in input data format.\n",
    "    \n",
    "    mini_batch_size_totalchar=batch_size*seq_length\n",
    "    \n",
    "    ## TODO: Get the number of batches we can make\n",
    "    n_batches = len(arr) // mini_batch_size_totalchar # here logic is total num of char/no of char in one minibatch\n",
    "                                                      # note that we perform integer division here.\n",
    "                                                      # integer div removes and extra characters.\n",
    "    \n",
    "    ## TODO: Keep only enough characters to make full batches\n",
    "    \n",
    "    # means take all the characters upto n_batches * mini_batch_size_totalchar\n",
    "    # so here start index=0, and end_index=n_batches * mini_batch_size_totalchar\n",
    "    \n",
    "    arr = arr[:n_batches * mini_batch_size_totalchar]\n",
    "    \n",
    "    ## TODO: Reshape into batch_size rows\n",
    "    arr = arr.reshape(batch_size,-1) #here -1 will the second dimenison to whatever size it needs to be to accomodate \n",
    "                                  #the data\n",
    "    \n",
    "    ## TODO: Iterate over the batches using a window of size seq_length\n",
    "    \n",
    "    #here arr.shape[1] means the second dimension. we visulasing new arr as batchsize*seq_length\n",
    "    \n",
    "    #here range(0,arr.shape[1]) means tarversing in a list of size seqlength\n",
    "    \n",
    "    for n in range(0, arr.shape[1], seq_length):\n",
    "        \n",
    "        #the features\n",
    "        #here arr[:,n:n+seq_len] means we are looking at all thr rows here, means all the batches by using colon(:)\n",
    "        #after comma (,) means now about columns, we are looking at column from index n to n+seq_length\n",
    "        \n",
    "        x = arr[:, n:n+seq_length]\n",
    "        # The targets, shifted by one\n",
    "        y = np.zeros_like(x)\n",
    "        try:\n",
    "            y[:, :-1], y[:, -1] = x[:, 1:], arr[:, n+seq_length]\n",
    "        except IndexError:\n",
    "            y[:, :-1], y[:, -1] = x[:, 1:], arr[:, 0]\n",
    "        yield x, y"
   ]
  },
  {
   "cell_type": "code",
   "execution_count": 13,
   "metadata": {},
   "outputs": [
    {
     "data": {
      "text/plain": [
       "'Chapter 1\\n\\n\\nHappy families are all alike; every unhappy family is unhappy in its own\\nway.\\n\\nEverythin'"
      ]
     },
     "execution_count": 13,
     "metadata": {},
     "output_type": "execute_result"
    }
   ],
   "source": [
    "#first 100 characters in the book\n",
    "text[:100]\n"
   ]
  },
  {
   "cell_type": "code",
   "execution_count": 14,
   "metadata": {},
   "outputs": [
    {
     "data": {
      "text/plain": [
       "array([65, 82, 38, 10, 72, 63, 45, 51, 24, 30, 30, 30, 32, 38, 10, 10, 78,\n",
       "       51,  7, 38, 39, 27, 47, 27, 63, 31, 51, 38, 45, 63, 51, 38, 47, 47,\n",
       "       51, 38, 47, 27, 21, 63, 33, 51, 63, 70, 63, 45, 78, 51, 48,  6, 82,\n",
       "       38, 10, 10, 78, 51,  7, 38, 39, 27, 47, 78, 51, 27, 31, 51, 48,  6,\n",
       "       82, 38, 10, 10, 78, 51, 27,  6, 51, 27, 72, 31, 51, 58, 19,  6, 30,\n",
       "       19, 38, 78, 52, 30, 30, 41, 70, 63, 45, 78, 72, 82, 27,  6])"
      ]
     },
     "execution_count": 14,
     "metadata": {},
     "output_type": "execute_result"
    }
   ],
   "source": [
    "# encoded for of forst 100 characters in the book\n",
    "encoded[:100]"
   ]
  },
  {
   "cell_type": "markdown",
   "metadata": {},
   "source": [
    "### Test Your Implementation\n",
    "\n",
    "Now I'll make some data sets and we can check out what's going on as we batch data. Here, as an example, I'm going to use a batch size of 8 and 50 sequence steps."
   ]
  },
  {
   "cell_type": "code",
   "execution_count": 36,
   "metadata": {},
   "outputs": [],
   "source": [
    "##get_batches(arr, batch_size, seq_length)\n",
    "\n",
    "batches = get_batches(encoded, 8, 50)\n",
    "x, y = next(batches)"
   ]
  },
  {
   "cell_type": "code",
   "execution_count": 16,
   "metadata": {},
   "outputs": [
    {
     "name": "stdout",
     "output_type": "stream",
     "text": [
      "[[65 82 38 10 72 63 45 51 24 30 30 30 32 38 10 10 78 51  7 38 39 27 47 27\n",
      "  63 31 51 38 45 63 51 38 47 47 51 38 47 27 21 63 33 51 63 70 63 45 78 51\n",
      "  48  6]\n",
      " [31 58  6 51 72 82 38 72 51 38 72 72 45 38 62 72 63 71 51 82 63 45 51 38\n",
      "  72 72 63  6 72 27 58  6 51 19 38 31 51 82 63 45 51 82 48 31 28 38  6 71\n",
      "  52 51]\n",
      " [63  6 71 51 58 45 51 38 51  7 58 63 67 51 82 63 51 38 70 58 27 71 63 71\n",
      "  51 82 27 31 51  7 38 72 82 63 45 52 51 32 63 30 47 58 58 21 63 71 51 45\n",
      "  58 48]\n",
      " [31 51 72 82 63 51 62 82 27 63  7 51 72 82 58 48 77 82 51 82 27 71 71 63\n",
      "   6 30 27  6 72 63 45 63 31 72 51 58  7 51 82 27 31 51 47 27  7 63 67 51\n",
      "  58  7]\n",
      " [51 31 38 19 51 82 63 45 51 72 63 38 45 68 31 72 38 27  6 63 71 67 51 10\n",
      "  27 72 27  7 48 47 67 51 31 19 63 63 72 51  7 38 62 63 67 30 39 27 31 63\n",
      "  45 38]\n",
      " [62 48 31 31 27 58  6 51 38  6 71 51 38  6 38 47 78 31 27 31 67 51 19 38\n",
      "  31 51 27  6 51 10 45 27  6 62 27 10 47 63 51 71 27 31 38 77 45 63 63 38\n",
      "  28 47]\n",
      " [51 15  6  6 38 51 82 38 71 51 31 38 27 71 51 72 82 38 72 51 25 58 47 47\n",
      "  78 51 19 58 48 47 71 51 63 44 62 48 31 63 51 27 72 52 51 15  6 71 51 72\n",
      "  82 27]\n",
      " [14 28 47 58  6 31 21 78 52 51  3 13 48 72 51 74 72 82 63 78 74 51 62 38\n",
      "   6  6 58 72 51 77 45 38 31 10 51 72 82 38 72 67 30 74 72 82 63 78 74 51\n",
      "  38 45]] \n",
      "dimensions of x is : (8, 50)\n",
      "\n",
      "\n",
      "[[82 38 10 72 63 45 51 24 30 30 30 32 38 10 10 78 51  7 38 39 27 47 27 63\n",
      "  31 51 38 45 63 51 38 47 47 51 38 47 27 21 63 33 51 63 70 63 45 78 51 48\n",
      "   6 82]\n",
      " [58  6 51 72 82 38 72 51 38 72 72 45 38 62 72 63 71 51 82 63 45 51 38 72\n",
      "  72 63  6 72 27 58  6 51 19 38 31 51 82 63 45 51 82 48 31 28 38  6 71 52\n",
      "  51  3]\n",
      " [ 6 71 51 58 45 51 38 51  7 58 63 67 51 82 63 51 38 70 58 27 71 63 71 51\n",
      "  82 27 31 51  7 38 72 82 63 45 52 51 32 63 30 47 58 58 21 63 71 51 45 58\n",
      "  48  6]\n",
      " [51 72 82 63 51 62 82 27 63  7 51 72 82 58 48 77 82 51 82 27 71 71 63  6\n",
      "  30 27  6 72 63 45 63 31 72 51 58  7 51 82 27 31 51 47 27  7 63 67 51 58\n",
      "   7 51]\n",
      " [31 38 19 51 82 63 45 51 72 63 38 45 68 31 72 38 27  6 63 71 67 51 10 27\n",
      "  72 27  7 48 47 67 51 31 19 63 63 72 51  7 38 62 63 67 30 39 27 31 63 45\n",
      "  38 28]\n",
      " [48 31 31 27 58  6 51 38  6 71 51 38  6 38 47 78 31 27 31 67 51 19 38 31\n",
      "  51 27  6 51 10 45 27  6 62 27 10 47 63 51 71 27 31 38 77 45 63 63 38 28\n",
      "  47 63]\n",
      " [15  6  6 38 51 82 38 71 51 31 38 27 71 51 72 82 38 72 51 25 58 47 47 78\n",
      "  51 19 58 48 47 71 51 63 44 62 48 31 63 51 27 72 52 51 15  6 71 51 72 82\n",
      "  27 31]\n",
      " [28 47 58  6 31 21 78 52 51  3 13 48 72 51 74 72 82 63 78 74 51 62 38  6\n",
      "   6 58 72 51 77 45 38 31 10 51 72 82 38 72 67 30 74 72 82 63 78 74 51 38\n",
      "  45 63]] \n",
      "dimensions of y is : (8, 50)\n"
     ]
    }
   ],
   "source": [
    "\n",
    "print(x,'\\ndimensions of x is :',x.shape)\n",
    "print('\\n')\n",
    "print(y,'\\ndimensions of y is :',y.shape)"
   ]
  },
  {
   "cell_type": "code",
   "execution_count": 35,
   "metadata": {},
   "outputs": [
    {
     "name": "stdout",
     "output_type": "stream",
     "text": [
      "x\n",
      " [[[0. 0. 0. 0. 0. 0. 0. 0. 0. 0. 0. 0. 0. 0. 0. 0. 0. 0. 0. 0. 0. 0. 0.\n",
      "   0. 0. 0. 0. 0. 0. 0. 0. 0. 0. 0. 0. 0. 0. 0. 1. 0. 0. 0. 0. 0. 0. 0.\n",
      "   0. 0. 0. 0. 0. 0. 0. 0. 0. 0. 0. 0. 0. 0. 0. 0. 0. 0. 0. 0. 0. 0. 0.\n",
      "   0. 0. 0. 0. 0. 0. 0. 0. 0. 0. 0. 0. 0. 0.]]] \n",
      "size of printed tesnor is : (1, 1, 83)\n",
      "\n",
      "y\n",
      " [[82 38 10 72 63 45 51 24 30 30]\n",
      " [58  6 51 72 82 38 72 51 38 72]\n",
      " [ 6 71 51 58 45 51 38 51  7 58]\n",
      " [51 72 82 63 51 62 82 27 63  7]\n",
      " [31 38 19 51 82 63 45 51 72 63]\n",
      " [48 31 31 27 58  6 51 38  6 71]\n",
      " [15  6  6 38 51 82 38 71 51 31]\n",
      " [28 47 58  6 31 21 78 52 51  3]]\n"
     ]
    }
   ],
   "source": [
    "# printing out the first 10 items in a sequence\n",
    "print('x\\n', x[:10, :10],'\\nsize of printed tesnor is :',x[:10, :10].shape)\n",
    "print('\\ny\\n', y[:10, :10])"
   ]
  },
  {
   "cell_type": "markdown",
   "metadata": {},
   "source": [
    "If you implemented `get_batches` correctly, the above output should look something like \n",
    "```\n",
    "x\n",
    " [[25  8 60 11 45 27 28 73  1  2]\n",
    " [17  7 20 73 45  8 60 45 73 60]\n",
    " [27 20 80 73  7 28 73 60 73 65]\n",
    " [17 73 45  8 27 73 66  8 46 27]\n",
    " [73 17 60 12 73  8 27 28 73 45]\n",
    " [66 64 17 17 46  7 20 73 60 20]\n",
    " [73 76 20 20 60 73  8 60 80 73]\n",
    " [47 35 43  7 20 17 24 50 37 73]]\n",
    "\n",
    "y\n",
    " [[ 8 60 11 45 27 28 73  1  2  2]\n",
    " [ 7 20 73 45  8 60 45 73 60 45]\n",
    " [20 80 73  7 28 73 60 73 65  7]\n",
    " [73 45  8 27 73 66  8 46 27 65]\n",
    " [17 60 12 73  8 27 28 73 45 27]\n",
    " [64 17 17 46  7 20 73 60 20 80]\n",
    " [76 20 20 60 73  8 60 80 73 17]\n",
    " [35 43  7 20 17 24 50 37 73 36]]\n",
    " ```\n",
    " although the exact numbers may be different. Check to make sure the data is shifted over one step for `y`."
   ]
  },
  {
   "cell_type": "markdown",
   "metadata": {},
   "source": [
    "---\n",
    "## Defining the network with PyTorch\n",
    "\n",
    "Below is where you'll define the network.\n",
    "\n",
    "<img src=\"assets/charRNN.png\" width=500px>\n",
    "\n",
    "Next, you'll use PyTorch to define the architecture of the network. We start by defining the layers and operations we want. Then, define a method for the forward pass. You've also been given a method for predicting characters."
   ]
  },
  {
   "cell_type": "markdown",
   "metadata": {},
   "source": [
    "### Model Structure\n",
    "\n",
    "In `__init__` the suggested structure is as follows:\n",
    "* Create and store the necessary dictionaries (this has been done for you)\n",
    "* Define an LSTM layer that takes as params: an input size (the number of characters), a hidden layer size `n_hidden`, a number of layers `n_layers`, a dropout probability `drop_prob`, and a batch_first boolean (True, since we are batching)\n",
    "* Define a dropout layer with `drop_prob`\n",
    "* Define a fully-connected layer with params: input size `n_hidden` and output size (the number of characters)\n",
    "* Finally, initialize the weights (again, this has been given)\n",
    "\n",
    "Note that some parameters have been named and given in the `__init__` function, and we use them and store them by doing something like `self.drop_prob = drop_prob`."
   ]
  },
  {
   "cell_type": "markdown",
   "metadata": {},
   "source": [
    "---\n",
    "### LSTM Inputs/Outputs\n",
    "\n",
    "You can create a basic [LSTM layer](https://pytorch.org/docs/stable/nn.html#lstm) as follows\n",
    "\n",
    "```python\n",
    "self.lstm = nn.LSTM(input_size, n_hidden, n_layers, \n",
    "                            dropout=drop_prob, batch_first=True)\n",
    "```\n",
    "\n",
    "where `input_size` is the number of characters this cell expects to see as sequential input, and `n_hidden` is the number of units in the hidden layers in the cell. And we can add dropout by adding a dropout parameter with a specified probability; this will automatically add dropout to the inputs or outputs. Finally, in the `forward` function, we can stack up the LSTM cells into layers using `.view`. With this, you pass in a list of cells and it will send the output of one cell into the next cell.\n",
    "\n",
    "We also need to create an initial hidden state of all zeros. This is done like so\n",
    "\n",
    "```python\n",
    "self.init_hidden()\n",
    "```"
   ]
  },
  {
   "cell_type": "code",
   "execution_count": 18,
   "metadata": {},
   "outputs": [
    {
     "name": "stdout",
     "output_type": "stream",
     "text": [
      "No GPU available, training on CPU; consider making n_epochs very small.\n"
     ]
    }
   ],
   "source": [
    "# check if GPU is available\n",
    "train_on_gpu = torch.cuda.is_available()\n",
    "if(train_on_gpu):\n",
    "    print('Training on GPU!')\n",
    "else: \n",
    "    print('No GPU available, training on CPU; consider making n_epochs very small.')"
   ]
  },
  {
   "cell_type": "code",
   "execution_count": 19,
   "metadata": {},
   "outputs": [],
   "source": [
    "class CharRNN(nn.Module):\n",
    "    \n",
    "    def __init__(self, tokens, n_hidden=256, n_layers=2,\n",
    "                               drop_prob=0.5, lr=0.001):\n",
    "        super().__init__()\n",
    "        self.drop_prob = drop_prob\n",
    "        self.n_layers = n_layers\n",
    "        self.n_hidden = n_hidden\n",
    "        self.lr = lr\n",
    "        \n",
    "        # creating character dictionaries\n",
    "        self.chars = tokens\n",
    "        self.int2char = dict(enumerate(self.chars))\n",
    "        self.char2int = {ch: ii for ii, ch in self.int2char.items()}\n",
    "        \n",
    "        ## TODO: define the layers of the model\n",
    "        self.lstm=nn.LSTM(len(chars) , n_hidden , n_layers , dropout = drop_prob , batch_first=True)\n",
    "        \n",
    "        #drouput_layer\n",
    "        \n",
    "        self.dropout=nn.Dropout(drop_prob)\n",
    "        \n",
    "        #fully connected layer\n",
    "        \n",
    "        self.fc=nn.Linear(n_hidden,len(chars))\n",
    "    \n",
    "    def forward(self, x, hidden):\n",
    "        ''' Forward pass through the network. \n",
    "            These inputs are x, and the hidden/cell state `hidden`. '''\n",
    "                \n",
    "        ## TODO: Get the outputs and the new hidden state from the lstm,\n",
    "        \n",
    "        ## TODO: Get the outputs and the new hidden state from the lstm\n",
    "        r_output,r_hidden=self.lstm(x,hidden)\n",
    "        \n",
    "        ## TODO: pass through a dropout layer\n",
    "        out=self.dropout(r_output)\n",
    "        \n",
    "        # Stack up LSTM outputs using view\n",
    "        # you may need to use contiguous to reshape the output\n",
    "        out = out.contiguous().view(-1, self.n_hidden) # out=out.view(-1,self.n_hidden) this is no longer supported \n",
    "                                                    #and we need to write the contigous() to make it work while stacking\n",
    "        \n",
    "        ## TODO: put x through the fully-connected layer\n",
    "        out=self.fc(out)\n",
    "        \n",
    "        # return the final output and the hidden state\n",
    "        return out, hidden\n",
    "    \n",
    "    \n",
    "    def init_hidden(self, batch_size):\n",
    "        ''' Initializes hidden state '''\n",
    "        # Create two new tensors with sizes n_layers x batch_size x n_hidden,\n",
    "        # initialized to zero, for hidden state and cell state of LSTM\n",
    "        weight = next(self.parameters()).data\n",
    "        \n",
    "        if (train_on_gpu):\n",
    "            hidden = (weight.new(self.n_layers, batch_size, self.n_hidden).zero_().cuda(),\n",
    "                  weight.new(self.n_layers, batch_size, self.n_hidden).zero_().cuda())\n",
    "        else:\n",
    "            hidden = (weight.new(self.n_layers, batch_size, self.n_hidden).zero_(),\n",
    "                      weight.new(self.n_layers, batch_size, self.n_hidden).zero_())\n",
    "        \n",
    "        return hidden\n",
    "        "
   ]
  },
  {
   "cell_type": "markdown",
   "metadata": {},
   "source": [
    "## Time to train\n",
    "\n",
    "The train function gives us the ability to set the number of epochs, the learning rate, and other parameters.\n",
    "\n",
    "Below we're using an Adam optimizer and cross entropy loss since we are looking at character class scores as output. We calculate the loss and perform backpropagation, as usual!\n",
    "\n",
    "A couple of details about training: \n",
    ">* Within the batch loop, we detach the hidden state from its history; this time setting it equal to a new *tuple* variable because an LSTM has a hidden state that is a tuple of the hidden and cell states.\n",
    "* We use [`clip_grad_norm_`](https://pytorch.org/docs/stable/_modules/torch/nn/utils/clip_grad.html) to help prevent exploding gradients."
   ]
  },
  {
   "cell_type": "code",
   "execution_count": 20,
   "metadata": {},
   "outputs": [],
   "source": [
    "def train(net, data, epochs=10, batch_size=10, seq_length=50, lr=0.001, clip=5, val_frac=0.1, print_every=10):\n",
    "    ''' Training a network \n",
    "    \n",
    "        Arguments\n",
    "        ---------\n",
    "        \n",
    "        net: CharRNN network\n",
    "        data: text data to train the network\n",
    "        epochs: Number of epochs to train\n",
    "        batch_size: Number of mini-sequences per mini-batch, aka batch size\n",
    "        seq_length: Number of character steps per mini-batch\n",
    "        lr: learning rate\n",
    "        clip: gradient clipping\n",
    "        val_frac: Fraction of data to hold out for validation\n",
    "        print_every: Number of steps for printing training and validation loss\n",
    "    \n",
    "    '''\n",
    "    net.train()\n",
    "    \n",
    "    opt = torch.optim.Adam(net.parameters(), lr=lr)\n",
    "    criterion = nn.CrossEntropyLoss()\n",
    "    \n",
    "    # create training and validation data\n",
    "    val_idx = int(len(data)*(1-val_frac))\n",
    "    data, val_data = data[:val_idx], data[val_idx:]\n",
    "    \n",
    "    if(train_on_gpu):\n",
    "        net.cuda()\n",
    "    \n",
    "    counter = 0\n",
    "    n_chars = len(net.chars)\n",
    "    for e in range(epochs):\n",
    "        # initialize hidden state\n",
    "        h = net.init_hidden(batch_size)\n",
    "        \n",
    "        for x, y in get_batches(data, batch_size, seq_length):\n",
    "            counter += 1\n",
    "            \n",
    "            # One-hot encode our data and make them Torch tensors\n",
    "            x = one_hot_encode(x, n_chars)\n",
    "            inputs, targets = torch.from_numpy(x), torch.from_numpy(y)\n",
    "            \n",
    "            if(train_on_gpu):\n",
    "                inputs, targets = inputs.cuda(), targets.cuda()\n",
    "\n",
    "            # Creating new variables for the hidden state, otherwise\n",
    "            # we'd backprop through the entire training history\n",
    "            h = tuple([each.data for each in h])\n",
    "\n",
    "            # zero accumulated gradients\n",
    "            net.zero_grad()\n",
    "            \n",
    "            # get the output from the model\n",
    "            output, h = net(inputs, h)\n",
    "            \n",
    "            # calculate the loss and perform backprop\n",
    "            loss = criterion(output, targets.view(batch_size*seq_length).long())\n",
    "            loss.backward()\n",
    "            # `clip_grad_norm` helps prevent the exploding gradient problem in RNNs / LSTMs.\n",
    "            nn.utils.clip_grad_norm_(net.parameters(), clip)\n",
    "            opt.step()\n",
    "            \n",
    "            # loss stats\n",
    "            if counter % print_every == 0:\n",
    "                # Get validation loss\n",
    "                val_h = net.init_hidden(batch_size)\n",
    "                val_losses = []\n",
    "                net.eval()\n",
    "                for x, y in get_batches(val_data, batch_size, seq_length):\n",
    "                    # One-hot encode our data and make them Torch tensors\n",
    "                    x = one_hot_encode(x, n_chars)\n",
    "                    x, y = torch.from_numpy(x), torch.from_numpy(y)\n",
    "                    \n",
    "                    # Creating new variables for the hidden state, otherwise\n",
    "                    # we'd backprop through the entire training history\n",
    "                    val_h = tuple([each.data for each in val_h])\n",
    "                    \n",
    "                    inputs, targets = x, y\n",
    "                    if(train_on_gpu):\n",
    "                        inputs, targets = inputs.cuda(), targets.cuda()\n",
    "\n",
    "                    output, val_h = net(inputs, val_h)\n",
    "                    val_loss = criterion(output, targets.view(batch_size*seq_length).long())\n",
    "                \n",
    "                    val_losses.append(val_loss.item())\n",
    "                \n",
    "                net.train() # reset to train mode after iterationg through validation data\n",
    "                \n",
    "                print(\"Epoch: {}/{}...\".format(e+1, epochs),\n",
    "                      \"Step: {}...\".format(counter),\n",
    "                      \"Loss: {:.4f}...\".format(loss.item()),\n",
    "                      \"Val Loss: {:.4f}\".format(np.mean(val_losses)))"
   ]
  },
  {
   "cell_type": "markdown",
   "metadata": {},
   "source": [
    "## Instantiating the model\n",
    "\n",
    "Now we can actually train the network. First we'll create the network itself, with some given hyperparameters. Then, define the mini-batches sizes, and start training!"
   ]
  },
  {
   "cell_type": "code",
   "execution_count": 21,
   "metadata": {},
   "outputs": [
    {
     "name": "stdout",
     "output_type": "stream",
     "text": [
      "CharRNN(\n",
      "  (lstm): LSTM(83, 512, num_layers=3, batch_first=True, dropout=0.5)\n",
      "  (dropout): Dropout(p=0.5, inplace=False)\n",
      "  (fc): Linear(in_features=512, out_features=83, bias=True)\n",
      ")\n"
     ]
    }
   ],
   "source": [
    "## TODO: set your model hyperparameters\n",
    "# define and print the net\n",
    "n_hidden=512\n",
    "n_layers=3\n",
    "\n",
    "net = CharRNN(chars, n_hidden, n_layers)\n",
    "print(net)"
   ]
  },
  {
   "cell_type": "code",
   "execution_count": null,
   "metadata": {},
   "outputs": [],
   "source": [
    "############## JOURNEY OF THE PREPROCESSING STEP FROM SCRATCH TO BE FINALLY PASSED INTO LSTM\n",
    "\n",
    "with open('data/anna.txt', 'r') as f:\n",
    "    text = f.read()\n",
    "    \n",
    "chars = tuple(set(text))\n",
    "\n",
    "int2char = dict(enumerate(chars))\n",
    "char2int = {ch: ii for ii, ch in int2char.items()}\n",
    "\n",
    "# encode the text\n",
    "encoded = np.array([char2int[ch] for ch in text])\n",
    "\n",
    "#get_batches() takes (arr, batch_size, seq_length) and outputs a tensor of the shape (batch_size,seq_length)\n",
    "batches=get_batches(encoded,8,10)\n",
    "\n",
    "x,y=next(batches)\n",
    "\n",
    "#onr_hot_encode takes in arguments (arr, n_labels) \n",
    "#and produces output tensor of form (batchsize,seqlen,onehot length of input)\n",
    "one_hot = one_hot_encode(x, 83)\n",
    "\n",
    "#############  DO NOT RUN THIS CELL ( ONLY FOR UNDERSTANDING PURPOSE)"
   ]
  },
  {
   "cell_type": "code",
   "execution_count": 75,
   "metadata": {},
   "outputs": [
    {
     "name": "stdout",
     "output_type": "stream",
     "text": [
      "size of x 80 \tshape of x : (8, 10) \n",
      "\n",
      "size of y 80 \tshape of y : (8, 10) \n",
      "\n",
      "shape of input x: (8, 10, 83)\n"
     ]
    }
   ],
   "source": [
    "#chcking what shape goes into out net model lstm\n",
    "batches=get_batches(encoded,8,10)\n",
    "\n",
    "#one way to findtotal number of bathes is converting generator obj to list and then findinf its len , however\n",
    "#doing this makes the generator obj int list type hence next()wont  work.\n",
    "#so just to find out for once we did that found number of batches=24815 guven batchsize=8, and seqlen=10\n",
    "\n",
    "x,y=next(batches)\n",
    "\n",
    "print('size of x',x.size,'\\tshape of x :',x.shape,'\\n')\n",
    "print('size of y',y.size,'\\tshape of y :',y.shape,'\\n')\n",
    "\n",
    "one_hot = one_hot_encode(x, 83)\n",
    "\n",
    "print('shape of input x:',one_hot.shape)\n"
   ]
  },
  {
   "cell_type": "markdown",
   "metadata": {},
   "source": [
    "### Set your training hyperparameters!"
   ]
  },
  {
   "cell_type": "code",
   "execution_count": null,
   "metadata": {
    "collapsed": true,
    "scrolled": true
   },
   "outputs": [],
   "source": [
    "batch_size = 200\n",
    "seq_length = 100\n",
    "n_epochs =  2 # start small if you are just testing initial behavior\n",
    "\n",
    "\n",
    "\n",
    "# train the model\n",
    "train(net, encoded, epochs=n_epochs, batch_size=batch_size, seq_length=seq_length, lr=0.001, print_every=10)"
   ]
  },
  {
   "cell_type": "markdown",
   "metadata": {},
   "source": [
    "## Getting the best model\n",
    "\n",
    "To set your hyperparameters to get the best performance, you'll want to watch the training and validation losses. If your training loss is much lower than the validation loss, you're overfitting. Increase regularization (more dropout) or use a smaller network. If the training and validation losses are close, you're underfitting so you can increase the size of the network."
   ]
  },
  {
   "cell_type": "markdown",
   "metadata": {},
   "source": [
    "## Hyperparameters\n",
    "\n",
    "Here are the hyperparameters for the network.\n",
    "\n",
    "In defining the model:\n",
    "* `n_hidden` - The number of units in the hidden layers.\n",
    "* `n_layers` - Number of hidden LSTM layers to use.\n",
    "\n",
    "We assume that dropout probability and learning rate will be kept at the default, in this example.\n",
    "\n",
    "And in training:\n",
    "* `batch_size` - Number of sequences running through the network in one pass.\n",
    "* `seq_length` - Number of characters in the sequence the network is trained on. Larger is better typically, the network will learn more long range dependencies. But it takes longer to train. 100 is typically a good number here.\n",
    "* `lr` - Learning rate for training\n",
    "\n",
    "Here's some good advice from Andrej Karpathy on training the network. I'm going to copy it in here for your benefit, but also link to [where it originally came from](https://github.com/karpathy/char-rnn#tips-and-tricks).\n",
    "\n",
    "> ## Tips and Tricks\n",
    "\n",
    ">### Monitoring Validation Loss vs. Training Loss\n",
    ">If you're somewhat new to Machine Learning or Neural Networks it can take a bit of expertise to get good models. The most important quantity to keep track of is the difference between your training loss (printed during training) and the validation loss (printed once in a while when the RNN is run on the validation data (by default every 1000 iterations)). In particular:\n",
    "\n",
    "> - If your training loss is much lower than validation loss then this means the network might be **overfitting**. Solutions to this are to decrease your network size, or to increase dropout. For example you could try dropout of 0.5 and so on.\n",
    "> - If your training/validation loss are about equal then your model is **underfitting**. Increase the size of your model (either number of layers or the raw number of neurons per layer)\n",
    "\n",
    "> ### Approximate number of parameters\n",
    "\n",
    "> The two most important parameters that control the model are `n_hidden` and `n_layers`. I would advise that you always use `n_layers` of either 2/3. The `n_hidden` can be adjusted based on how much data you have. The two important quantities to keep track of here are:\n",
    "\n",
    "> - The number of parameters in your model. This is printed when you start training.\n",
    "> - The size of your dataset. 1MB file is approximately 1 million characters.\n",
    "\n",
    ">These two should be about the same order of magnitude. It's a little tricky to tell. Here are some examples:\n",
    "\n",
    "> - I have a 100MB dataset and I'm using the default parameter settings (which currently print 150K parameters). My data size is significantly larger (100 mil >> 0.15 mil), so I expect to heavily underfit. I am thinking I can comfortably afford to make `n_hidden` larger.\n",
    "> - I have a 10MB dataset and running a 10 million parameter model. I'm slightly nervous and I'm carefully monitoring my validation loss. If it's larger than my training loss then I may want to try to increase dropout a bit and see if that helps the validation loss.\n",
    "\n",
    "> ### Best models strategy\n",
    "\n",
    ">The winning strategy to obtaining very good models (if you have the compute time) is to always err on making the network larger (as large as you're willing to wait for it to compute) and then try different dropout values (between 0,1). Whatever model has the best validation performance (the loss, written in the checkpoint filename, low is good) is the one you should use in the end.\n",
    "\n",
    ">It is very common in deep learning to run many different models with many different hyperparameter settings, and in the end take whatever checkpoint gave the best validation performance.\n",
    "\n",
    ">By the way, the size of your training and validation splits are also parameters. Make sure you have a decent amount of data in your validation set or otherwise the validation performance will be noisy and not very informative."
   ]
  },
  {
   "cell_type": "markdown",
   "metadata": {},
   "source": [
    "## Checkpoint\n",
    "\n",
    "After training, we'll save the model so we can load it again later if we need too. Here I'm saving the parameters needed to create the same architecture, the hidden layer hyperparameters and the text characters."
   ]
  },
  {
   "cell_type": "code",
   "execution_count": 56,
   "metadata": {},
   "outputs": [],
   "source": [
    "# change the name, for saving multiple files\n",
    "model_name = 'rnn_x_epoch.net'\n",
    "\n",
    "checkpoint = {'n_hidden': net.n_hidden,\n",
    "              'n_layers': net.n_layers,\n",
    "              'state_dict': net.state_dict(),\n",
    "              'tokens': net.chars}\n",
    "\n",
    "with open(model_name, 'wb') as f:\n",
    "    torch.save(checkpoint, f)"
   ]
  },
  {
   "cell_type": "markdown",
   "metadata": {},
   "source": [
    "---\n",
    "## Making Predictions\n",
    "\n",
    "Now that the model is trained, we'll want to sample from it and make predictions about next characters! To sample, we pass in a character and have the network predict the next character. Then we take that character, pass it back in, and get another predicted character. Just keep doing this and you'll generate a bunch of text!\n",
    "\n",
    "### A note on the `predict`  function\n",
    "\n",
    "The output of our RNN is from a fully-connected layer and it outputs a **distribution of next-character scores**.\n",
    "\n",
    "> To actually get the next character, we apply a softmax function, which gives us a *probability* distribution that we can then sample to predict the next character.\n",
    "\n",
    "### Top K sampling\n",
    "\n",
    "Our predictions come from a categorical probability distribution over all the possible characters. We can make the sample text and make it more reasonable to handle (with less variables) by only considering some $K$ most probable characters. This will prevent the network from giving us completely absurd characters while allowing it to introduce some noise and randomness into the sampled text. Read more about [topk, here](https://pytorch.org/docs/stable/torch.html#torch.topk).\n"
   ]
  },
  {
   "cell_type": "code",
   "execution_count": 22,
   "metadata": {},
   "outputs": [
    {
     "name": "stdout",
     "output_type": "stream",
     "text": [
      "[[38]]\n",
      "(1, 1, 83)\n",
      "torch.Size([1, 83])\n",
      "tensor([[0.0126, 0.0126, 0.0125, 0.0125]])\n",
      "torch.Size([1, 4])\n",
      "tensor([[13,  9, 61, 45]])\n",
      "torch.Size([1, 4])\n",
      "[13  9 61 45]\n",
      "(4,)\n",
      "[0.01263686 0.01258768 0.0125287  0.01250418]\n",
      "(4,)\n",
      "13\n",
      "B\n"
     ]
    }
   ],
   "source": [
    "######### sample input and shapes for the codeblock below:\n",
    "\n",
    "char='a'\n",
    "h=net.init_hidden(1)\n",
    "top_k=4\n",
    "\n",
    "x = np.array([[net.char2int[char]]])\n",
    "\n",
    "print(x)\n",
    "\n",
    "x = one_hot_encode(x, len(net.chars))\n",
    "\n",
    "print(x.shape)\n",
    "\n",
    "inputs = torch.from_numpy(x)\n",
    "        \n",
    "if(train_on_gpu):\n",
    "    inputs = inputs.cuda()\n",
    "        \n",
    "# detach hidden state from history\n",
    "#h = tuple([each.data for each in h])\n",
    "\n",
    "# get the output of the model\n",
    "out, h = net(inputs, h)\n",
    "\n",
    "print(out.shape)\n",
    "\n",
    "# get the character probabilities\n",
    "p = F.softmax(out, dim=1).data\n",
    "if(train_on_gpu):\n",
    "    p = p.cpu() # move to cpu\n",
    "        \n",
    "# get top characters\n",
    "if top_k is None:\n",
    "    top_ch = np.arange(len(net.chars))\n",
    "else:\n",
    "    p, top_ch = p.topk(top_k)\n",
    "    print(p)\n",
    "    print(p.shape)\n",
    "    print(top_ch)\n",
    "    print(top_ch.shape)\n",
    "    top_ch = top_ch.numpy().squeeze()\n",
    "    print(top_ch)\n",
    "    print(top_ch.shape)\n",
    "    \n",
    "# select the likely next character with some element of randomness\n",
    "\n",
    "p = p.numpy().squeeze()\n",
    "\n",
    "print(p)\n",
    "print(p.shape)\n",
    "\n",
    "char = np.random.choice(top_ch, p=p/p.sum())\n",
    "print(char)\n",
    "\n",
    "# return the encoded value of the predicted char and the hidden state\n",
    "print(net.int2char[char])"
   ]
  },
  {
   "cell_type": "code",
   "execution_count": 23,
   "metadata": {},
   "outputs": [],
   "source": [
    "def predict(net, char, h=None, top_k=None):\n",
    "        ''' Given a character, predict the next character.\n",
    "            Returns the predicted character and the hidden state.\n",
    "        '''\n",
    "        \n",
    "        # tensor inputs\n",
    "        x = np.array([[net.char2int[char]]])\n",
    "        x = one_hot_encode(x, len(net.chars))\n",
    "        inputs = torch.from_numpy(x)\n",
    "        \n",
    "        if(train_on_gpu):\n",
    "            inputs = inputs.cuda()\n",
    "        \n",
    "        # detach hidden state from history\n",
    "        h = tuple([each.data for each in h])\n",
    "        # get the output of the model\n",
    "        out, h = net(inputs, h)\n",
    "\n",
    "        # get the character probabilities\n",
    "        p = F.softmax(out, dim=1).data\n",
    "        if(train_on_gpu):\n",
    "            p = p.cpu() # move to cpu\n",
    "        \n",
    "        # get top characters\n",
    "        if top_k is None:\n",
    "            top_ch = np.arange(len(net.chars))\n",
    "        else:\n",
    "            p, top_ch = p.topk(top_k)\n",
    "            top_ch = top_ch.numpy().squeeze()\n",
    "        \n",
    "        # select the likely next character with some element of randomness\n",
    "        p = p.numpy().squeeze()\n",
    "        char = np.random.choice(top_ch, p=p/p.sum())\n",
    "        \n",
    "        # return the encoded value of the predicted char and the hidden state\n",
    "        return net.int2char[char], h"
   ]
  },
  {
   "cell_type": "markdown",
   "metadata": {},
   "source": [
    "### Priming and generating text \n",
    "\n",
    "Typically you'll want to prime the network so you can build up a hidden state. Otherwise the network will start out generating characters at random. In general the first bunch of characters will be a little rough since it hasn't built up a long history of characters to predict from."
   ]
  },
  {
   "cell_type": "code",
   "execution_count": 24,
   "metadata": {},
   "outputs": [],
   "source": [
    "def sample(net, size, prime='love', top_k=None):\n",
    "        \n",
    "    if(train_on_gpu):\n",
    "        net.cuda()\n",
    "    else:\n",
    "        net.cpu()\n",
    "    \n",
    "    net.eval() # eval mode\n",
    "    \n",
    "    # First off, run through the prime characters\n",
    "    chars = [ch for ch in prime]\n",
    "    h = net.init_hidden(1)\n",
    "    for ch in prime:\n",
    "        char, h = predict(net, ch, h, top_k=top_k)\n",
    "\n",
    "    chars.append(char)\n",
    "    \n",
    "    # Now pass in the previous character and get a new one\n",
    "    for ii in range(size):\n",
    "        char, h = predict(net, chars[-1], h, top_k=top_k)\n",
    "        chars.append(char)\n",
    "        \n",
    "    #use of ''.join(chars)\n",
    "    #myTuple = (\"John\", \"Peter\", \"Vicky\")\n",
    "    #x = \"#\".join(myTuple)\n",
    "    #print(x) --------> John#Peter#Vicky\n",
    "    #since we use an empty string so our out as per above exampl would be ------> JohnPeterVicky\n",
    "\n",
    "    return ''.join(chars)"
   ]
  },
  {
   "cell_type": "code",
   "execution_count": 25,
   "metadata": {},
   "outputs": [
    {
     "ename": "NameError",
     "evalue": "name 'model' is not defined",
     "output_type": "error",
     "traceback": [
      "\u001b[0;31m---------------------------------------------------------------------------\u001b[0m",
      "\u001b[0;31mNameError\u001b[0m                                 Traceback (most recent call last)",
      "\u001b[0;32m<ipython-input-25-e029710c4f16>\u001b[0m in \u001b[0;36m<module>\u001b[0;34m\u001b[0m\n\u001b[0;32m----> 1\u001b[0;31m \u001b[0mtorch\u001b[0m\u001b[0;34m.\u001b[0m\u001b[0msave\u001b[0m\u001b[0;34m(\u001b[0m\u001b[0mmodel\u001b[0m\u001b[0;34m.\u001b[0m\u001b[0mstate_dict\u001b[0m\u001b[0;34m(\u001b[0m\u001b[0;34m)\u001b[0m\u001b[0;34m,\u001b[0m \u001b[0mPATH\u001b[0m\u001b[0;34m)\u001b[0m\u001b[0;34m\u001b[0m\u001b[0;34m\u001b[0m\u001b[0m\n\u001b[0m\u001b[1;32m      2\u001b[0m \u001b[0;34m\u001b[0m\u001b[0m\n\u001b[1;32m      3\u001b[0m \u001b[0mdevice\u001b[0m \u001b[0;34m=\u001b[0m \u001b[0mtorch\u001b[0m\u001b[0;34m.\u001b[0m\u001b[0mdevice\u001b[0m\u001b[0;34m(\u001b[0m\u001b[0;34m\"cuda\"\u001b[0m\u001b[0;34m)\u001b[0m\u001b[0;34m\u001b[0m\u001b[0;34m\u001b[0m\u001b[0m\n\u001b[1;32m      4\u001b[0m \u001b[0mmodel\u001b[0m \u001b[0;34m=\u001b[0m \u001b[0mTheModelClass\u001b[0m\u001b[0;34m(\u001b[0m\u001b[0;34m*\u001b[0m\u001b[0margs\u001b[0m\u001b[0;34m,\u001b[0m \u001b[0;34m**\u001b[0m\u001b[0mkwargs\u001b[0m\u001b[0;34m)\u001b[0m\u001b[0;34m\u001b[0m\u001b[0;34m\u001b[0m\u001b[0m\n\u001b[1;32m      5\u001b[0m \u001b[0mmodel\u001b[0m\u001b[0;34m.\u001b[0m\u001b[0mload_state_dict\u001b[0m\u001b[0;34m(\u001b[0m\u001b[0mtorch\u001b[0m\u001b[0;34m.\u001b[0m\u001b[0mload\u001b[0m\u001b[0;34m(\u001b[0m\u001b[0mPATH\u001b[0m\u001b[0;34m)\u001b[0m\u001b[0;34m)\u001b[0m\u001b[0;34m\u001b[0m\u001b[0;34m\u001b[0m\u001b[0m\n",
      "\u001b[0;31mNameError\u001b[0m: name 'model' is not defined"
     ]
    }
   ],
   "source": [
    "torch.save(model.state_dict(), PATH)\n",
    "\n",
    "device = torch.device(\"cuda\")\n",
    "model = TheModelClass(*args, **kwargs)\n",
    "model.load_state_dict(torch.load(PATH))\n",
    "model.to(device)"
   ]
  },
  {
   "cell_type": "code",
   "execution_count": null,
   "metadata": {},
   "outputs": [],
   "source": [
    "import torch\n",
    "with open('rnn_x_epoch.net', 'rb') as f:\n",
    "    checkpoint = torch.load(f,map_location='cpu')\n",
    "    \n",
    "loaded = CharRNN(checkpoint['tokens'], n_hidden=checkpoint['n_hidden'], n_layers=checkpoint['n_layers'])\n",
    "loaded.load_state_dict(checkpoint['state_dict'])"
   ]
  },
  {
   "cell_type": "code",
   "execution_count": 41,
   "metadata": {},
   "outputs": [
    {
     "name": "stdout",
     "output_type": "stream",
     "text": [
      "Thelubury, th t\n",
      "cobumerigrend obluserit weshan ore h chshe h, oure h, we h, Tce h cond, th, hes wind h h chithesth, obfrigro ch cestoure thelingaly chselous\n",
      "ths hifise corid highe wobloble Ton thith, obrintonga watery th wathingero wh th ond Twe heland on onth ofiths\n",
      "Cin\n",
      "Tons we th to wit Tobrid, ch wereshenthe we ch ouron on\n",
      "wrofuberatheshalitan\n",
      "chathe\n",
      "h, wingon Tate wan thery The\n",
      "Cobuthagous cate\n",
      "thatha cithath, t\n",
      "wh oburonghshe Torery crathins\n",
      "he on ths\n",
      "Ca wath, che Th Torifure obus\n",
      "Crifrifis ths\n",
      "Toubles\n",
      "h obure thate\n",
      "Ths cathe\n",
      "Tore orathe wathe o Tha Ths\n",
      "ch Ton herere cory on th tobure h, orore chagon Tofle ha wathe wrerath,\"..\n",
      "henserere\n",
      "Coratero hery he h cha ch hs Tcatheroberathen\n",
      "chs\n",
      "touth caly te hathengrobres\n",
      "cobla chathingerath con Tchage cre whery hs.\n",
      "Chelobrongo wifutery con chsths. cobfry\n",
      "hs\n",
      "thin\n",
      "h ths\n",
      "terofus orurigh hagh, ofushisesthe helantha cathsh, t The\n",
      "hare\n",
      "Tarithe wan\n",
      "Trate Tcoraraths\n",
      "Ch hshe Tran To wore withe\n",
      "thes...\", that h hely. Tcofigous wathe obrure hifry heshs \n"
     ]
    }
   ],
   "source": [
    "print(sample(loaded, 1000, prime='The', top_k=6))"
   ]
  },
  {
   "cell_type": "markdown",
   "metadata": {},
   "source": [
    "## Loading a checkpoint"
   ]
  },
  {
   "cell_type": "code",
   "execution_count": 44,
   "metadata": {},
   "outputs": [
    {
     "data": {
      "text/plain": [
       "<All keys matched successfully>"
      ]
     },
     "execution_count": 44,
     "metadata": {},
     "output_type": "execute_result"
    }
   ],
   "source": [
    "import torch\n",
    "with open('rnn_x_epoch.net', 'rb') as f:\n",
    "    checkpoint = torch.load(f,map_location='cpu')\n",
    "    \n",
    "loaded = CharRNN(checkpoint['tokens'], n_hidden=checkpoint['n_hidden'], n_layers=checkpoint['n_layers'])\n",
    "loaded.load_state_dict(checkpoint['state_dict'])"
   ]
  },
  {
   "cell_type": "code",
   "execution_count": 48,
   "metadata": {},
   "outputs": [
    {
     "name": "stdout",
     "output_type": "stream",
     "text": [
      "5467731\n",
      "5467731\n"
     ]
    }
   ],
   "source": [
    "pytorch_total_params = sum(p.numel() for p in loaded.parameters())\n",
    "print(pytorch_total_params)\n",
    "\n",
    "pytorch_total_params_trainable = sum(p.numel() for p in loaded.parameters() if p.requires_grad)\n",
    "print(pytorch_total_params_trainable)"
   ]
  },
  {
   "cell_type": "code",
   "execution_count": 38,
   "metadata": {},
   "outputs": [
    {
     "name": "stdout",
     "output_type": "stream",
     "text": [
      "And Levin said\n",
      "cobrathathista therithely Th he hes...\", che\n",
      "cond.\"\n",
      "Therobrond\n",
      "ths ha ths che oblonth The Th Thagarigary, hs thifuroure hery oringe Th cre\n",
      "th thesthelisthe\n",
      "charousthe he obrish Trigitonshe he\n",
      "coront Twatobfifush crishes haginsthere Ta Th Twe\n",
      "cishiganthatheshath he thigarin chins hifus thantes.\"\n",
      "thifitory thely hatha hshagorere ougofus Thes hangofifury\n",
      "hin han thath hin he cons ths cobflathatherorons The hsh Tathin Torongh hs crindelata Tre he\n",
      "Tha Tarifugint cory thelifugere h h coburorobris\n",
      "cry\n",
      "Ths\n",
      "he\n",
      "ca thitorat Th Tongofuriste con cry here oury hst hingobelithelifurath ths.\n",
      "chinths h hathagheshe\n",
      "h he ha th ofinth heringhate he tha he hithithelagatharathind Trare\n",
      "hathshs. Trond he h hathe onthere th courerigoblin thite Tagheritatherery thin hsth Tatangifus\n",
      "Ths harera con orin Traths hs\n",
      "Therofus. ofury,\" obure tharath hsthe terinth cha hififus.. ofind. this\n",
      "Tore\n",
      "h ofures\n",
      "h cathe orate on hs\n",
      "he ontath Ton Torathind.. hs\n",
      "the obusthe higifligifus Twatha orery crathathige ths hifrin hsh ouga hithathsthe h h Thatouth orerathary cifly on ore\n",
      "th thely\n",
      "he tongonteris..\"\n",
      "he\n",
      "Che hin cobubugariths.\n",
      "Caghitoubferelorinth hsthshelithaginte oushsh onsha t chsths\n",
      "t cighe\n",
      "Cathere Twans h he Tat thinth cinshinths\n",
      "hshs therathe h cry\n",
      "Twery hes\n",
      "Catarerath Tobugourobus Toura Th Twhigin Twagerige cinthanthelofle\n",
      "Tre\n",
      "cofitath Tatherath ches\n",
      "thera here obritherifis crantofutha h corere\n",
      "h Toube\n",
      "the heshe onths\n",
      "thagery, he ch he Toratathe\n",
      "Trish cofratharaghe orelin ontatharous.. thagere Thisha th Tre\n",
      "Th hifurinthinthe\n",
      "Tongouthes\n",
      "Che hishin h Tofe ths\n",
      "he Th ths onst ha Trerourige onth cobfubre he Tory ta helithe thes\n",
      "Cofrathith hery Thele oburishery Twistherouraths.\n",
      "chifrage onsha h han thifurifes\n",
      "Th Tresthatha ourarifronthe\n",
      "Tous\n",
      "cobres. herontherin Tharinthe cheron ory hstera he Th cristhagare obe hs\n",
      "Twore obeligereshe ourifishistaghan ontous Toush cath th ch Trofugheshiths Thesh h chath Torerobere t thsth obly thagatouth on hery thes che his. cherobe out cathingithe\n",
      "chela tagifle\n",
      "This onghe\n"
     ]
    }
   ],
   "source": [
    "# Sample using a loaded model\n",
    "print(sample(loaded, 2000, top_k=5, prime=\"And Levin said\"))"
   ]
  },
  {
   "cell_type": "code",
   "execution_count": null,
   "metadata": {
    "collapsed": true
   },
   "outputs": [],
   "source": []
  }
 ],
 "metadata": {
  "kernelspec": {
   "display_name": "Python 3",
   "language": "python",
   "name": "python3"
  },
  "language_info": {
   "codemirror_mode": {
    "name": "ipython",
    "version": 3
   },
   "file_extension": ".py",
   "mimetype": "text/x-python",
   "name": "python",
   "nbconvert_exporter": "python",
   "pygments_lexer": "ipython3",
   "version": "3.7.6"
  }
 },
 "nbformat": 4,
 "nbformat_minor": 2
}
